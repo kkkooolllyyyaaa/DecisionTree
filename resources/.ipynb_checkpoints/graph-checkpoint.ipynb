{
 "cells": [
  {
   "cell_type": "markdown",
   "id": "1a3b8d06",
   "metadata": {},
   "source": [
    "# Лабораторная работа №3 - Дерево Решений #\n",
    "#### Выполнил:  ####\n",
    "Цыпандин Николай\n",
    "#### Преподаватели: ####\n",
    "+ Авдюшина Анна Евгеньевна\n",
    "+ Бессмертный Игорь Александрович\n",
    "\n"
   ]
  },
  {
   "cell_type": "code",
   "execution_count": 2,
   "id": "91a4d288",
   "metadata": {},
   "outputs": [],
   "source": [
    "import pandas as pd\n",
    "%matplotlib inline\n",
    "import matplotlib.pyplot as plt\n",
    "import numpy as np\n",
    "import math"
   ]
  },
  {
   "cell_type": "code",
   "execution_count": null,
   "id": "1cded4cb",
   "metadata": {},
   "outputs": [],
   "source": [
    "df = pd.read_csv('result.txt', sep = ',')\n",
    "df.head()"
   ]
  }
 ],
 "metadata": {
  "kernelspec": {
   "display_name": "Python 3 (ipykernel)",
   "language": "python",
   "name": "python3"
  },
  "language_info": {
   "codemirror_mode": {
    "name": "ipython",
    "version": 3
   },
   "file_extension": ".py",
   "mimetype": "text/x-python",
   "name": "python",
   "nbconvert_exporter": "python",
   "pygments_lexer": "ipython3",
   "version": "3.9.7"
  }
 },
 "nbformat": 4,
 "nbformat_minor": 5
}
